{
 "cells": [
  {
   "cell_type": "code",
   "execution_count": null,
   "id": "df3290f8",
   "metadata": {},
   "outputs": [],
   "source": [
    "********************************************************************************************************************************"
   ]
  },
  {
   "cell_type": "markdown",
   "id": "fe8b7783",
   "metadata": {},
   "source": [
    "# Question-1\n",
    "\n",
    "Q1. To what does a relative path refer?\n",
    "\n",
    "Ans. A relative path is a link that points to a file location on the page where the link is located. Unlike an absolute path, a relative path does not include the domain name of the website. Instead, it contains just the directory and slug."
   ]
  },
  {
   "cell_type": "code",
   "execution_count": null,
   "id": "6d301f1a",
   "metadata": {},
   "outputs": [],
   "source": [
    "********************************************************************************************************************************"
   ]
  },
  {
   "cell_type": "markdown",
   "id": "b2fff067",
   "metadata": {},
   "source": [
    "# Question-2\n",
    "\n",
    "Q2. What does an absolute path start with your operating system?\n",
    "\n",
    "Ans. An absolute path is defined as the specifying the location of a file or directory from the root directory(/). In other words we can say absolute path is a complete path from start of actual filesystem from / directory."
   ]
  },
  {
   "cell_type": "code",
   "execution_count": null,
   "id": "9d77c93c",
   "metadata": {},
   "outputs": [],
   "source": [
    "********************************************************************************************************************************"
   ]
  },
  {
   "cell_type": "markdown",
   "id": "3da9fc1a",
   "metadata": {},
   "source": [
    "# Question-3\n",
    "\n",
    "Q3. What do the functions os.getcwd() and os.chdir() do?\n",
    "\n",
    "Ans. getcwd() : CWD stands for Current Working Directory. This function allows you to see what your current working directory is.\n",
    "\n",
    "chdir(\"path-to-dir\") : Short for CHange DIRectory, this function allows you to set the current working directory to a path of your choice."
   ]
  },
  {
   "cell_type": "code",
   "execution_count": 1,
   "id": "db497ca9",
   "metadata": {},
   "outputs": [
    {
     "data": {
      "text/plain": [
       "'C:\\\\Users\\\\91999\\\\Documents\\\\Data Science\\\\Python Basic Assignment'"
      ]
     },
     "execution_count": 1,
     "metadata": {},
     "output_type": "execute_result"
    }
   ],
   "source": [
    "import os\n",
    "\n",
    "os.getcwd()"
   ]
  },
  {
   "cell_type": "code",
   "execution_count": 2,
   "id": "eb680460",
   "metadata": {},
   "outputs": [],
   "source": [
    "os.chdir('C:\\\\Users\\\\91999\\\\Documents\\\\Data Science\\\\Python Basic Assignment')"
   ]
  },
  {
   "cell_type": "code",
   "execution_count": null,
   "id": "23819c2e",
   "metadata": {},
   "outputs": [],
   "source": [
    "********************************************************************************************************************************"
   ]
  },
  {
   "cell_type": "markdown",
   "id": "3e38171a",
   "metadata": {},
   "source": [
    "# Question-4\n",
    "\n",
    "Q4. What are the . and .. folders?\n",
    "\n",
    "Ans. The . is the current directory, while .. signifies the parent directory. It makes things quicker at the command line as well so you don't need to type out full paths."
   ]
  },
  {
   "cell_type": "code",
   "execution_count": null,
   "id": "2f95a9d0",
   "metadata": {},
   "outputs": [],
   "source": [
    "********************************************************************************************************************************"
   ]
  },
  {
   "cell_type": "markdown",
   "id": "3c57a407",
   "metadata": {},
   "source": [
    "# Question-5\n",
    "\n",
    "Q5. In C:\\bacon\\eggs\\spam.txt, which part is the dir name, and which part is the base name?\n",
    "\n",
    "Ans. C:\\bacon\\eggs is the dir name, while spam. txt is the base name."
   ]
  },
  {
   "cell_type": "code",
   "execution_count": null,
   "id": "8d1cf08a",
   "metadata": {},
   "outputs": [],
   "source": [
    "********************************************************************************************************************************"
   ]
  },
  {
   "cell_type": "markdown",
   "id": "45db917a",
   "metadata": {},
   "source": [
    "# Question-6\n",
    "\n",
    "Q6. What are the three “mode” arguments that can be passed to the open() function?\n",
    "\n",
    "Ans. The access modes available for the open() function are as follows:\n",
    "\n",
    "r: Opens the file in read-only mode. Starts reading from the beginning of the file and is the default mode for the open() function.\n",
    "\n",
    "rb: Opens the file as read-only in binary format and starts reading from the beginning of the file. While binary format can be used for different purposes, it is usually used when dealing with things like images, videos, etc.\n",
    "\n",
    "r+: Opens a file for reading and writing, placing the pointer at the beginning of the file.\n",
    "\n",
    "w: Opens in write-only mode. The pointer is placed at the beginning of the file and this will overwrite any existing file with the same name. It will create a new file if one with the same name doesn't exist.\n",
    "\n",
    "wb: Opens a write-only file in binary mode.\n",
    "\n",
    "w+: Opens a file for writing and reading.\n",
    "\n",
    "wb+: Opens a file for writing and reading in binary mode.\n",
    "\n",
    "a: Opens a file for appending new information to it. The pointer is placed at the end of the file. A new file is created if one with the same name doesn't exist.\n",
    "\n",
    "ab: Opens a file for appending in binary mode.\n",
    "\n",
    "a+: Opens a file for both appending and reading.\n",
    "\n",
    "ab+: Opens a file for both appending and reading in binary mode."
   ]
  },
  {
   "cell_type": "code",
   "execution_count": null,
   "id": "ec6a4900",
   "metadata": {},
   "outputs": [],
   "source": [
    "********************************************************************************************************************************"
   ]
  },
  {
   "cell_type": "markdown",
   "id": "51f25164",
   "metadata": {},
   "source": [
    "# Question-7\n",
    "\n",
    "Q7.  What happens if an existing file is opened in write mode?\n",
    "\n",
    "Ans. If the file to be opened exists in the current directory and is open using 'w' / 'w+', the contents will be deleted before writing."
   ]
  },
  {
   "cell_type": "code",
   "execution_count": null,
   "id": "f81cf22a",
   "metadata": {},
   "outputs": [],
   "source": [
    "********************************************************************************************************************************"
   ]
  },
  {
   "cell_type": "markdown",
   "id": "78171cb8",
   "metadata": {},
   "source": [
    "# Question-8\n",
    "\n",
    "Q8. How do you tell the difference between read() and readlines()?\n",
    "\n",
    "Ans. The read() will read the whole file at once and then print out the first characters that take up as many bytes as you specify in the parenthesis versus the readline() that will read and print out only the first characters that take up as many bytes as you specify in the parenthesis."
   ]
  },
  {
   "cell_type": "code",
   "execution_count": 7,
   "id": "fff28867",
   "metadata": {},
   "outputs": [
    {
     "name": "stdout",
     "output_type": "stream",
     "text": [
      "Line1: f\n",
      "Line2: i\n",
      "Line3: r\n",
      "Line4: s\n",
      "Line5: t\n",
      "Line6: \n",
      "Line7: l\n",
      "Line8: i\n",
      "Line9: n\n",
      "Line10: e\n",
      "Line11: \n",
      "Line12: s\n",
      "Line13: e\n",
      "Line14: c\n",
      "Line15: o\n",
      "Line16: n\n",
      "Line17: d\n",
      "Line18: \n",
      "Line19: l\n",
      "Line20: i\n",
      "Line21: n\n",
      "Line22: e\n",
      "Line23: \n",
      "Line24: t\n",
      "Line25: h\n",
      "Line26: i\n",
      "Line27: r\n",
      "Line28: d\n",
      "Line29: \n",
      "Line30: l\n",
      "Line31: i\n",
      "Line32: n\n",
      "Line33: e\n"
     ]
    }
   ],
   "source": [
    "file1 = open('test.txt', 'r')\n",
    "Lines = file1.read()\n",
    "  \n",
    "count = 0\n",
    "# Strips the newline character\n",
    "for line in Lines:\n",
    "    count += 1\n",
    "    print(\"Line{}: {}\".format(count, line.strip()))"
   ]
  },
  {
   "cell_type": "code",
   "execution_count": 6,
   "id": "95adbc06",
   "metadata": {},
   "outputs": [
    {
     "name": "stdout",
     "output_type": "stream",
     "text": [
      "Using readlines()\n",
      "Line1: first line\n",
      "Line2: second line\n",
      "Line3: third line\n"
     ]
    }
   ],
   "source": [
    "# using readlines()\n",
    "count = 0\n",
    "print(\"Using readlines()\")\n",
    "  \n",
    "with open(\"test.txt\") as fp:\n",
    "    Lines = fp.readlines()\n",
    "    for line in Lines:\n",
    "        count += 1\n",
    "        print(\"Line{}: {}\".format(count, line.strip()))"
   ]
  },
  {
   "cell_type": "code",
   "execution_count": null,
   "id": "612898e6",
   "metadata": {},
   "outputs": [],
   "source": [
    "********************************************************************************************************************************"
   ]
  },
  {
   "cell_type": "markdown",
   "id": "b7d2a22d",
   "metadata": {},
   "source": [
    "# Question-9\n",
    "\n",
    "Q9. What data structure does a shelf value resemble?\n",
    "\n",
    "Ans. A shelf value resembles a dictionary value; it has keys and values, along with keys() and values() methods that work similarly to the dictionary methods of the same names."
   ]
  },
  {
   "cell_type": "code",
   "execution_count": null,
   "id": "f627530a",
   "metadata": {},
   "outputs": [],
   "source": [
    "********************************************************************************************************************************"
   ]
  }
 ],
 "metadata": {
  "kernelspec": {
   "display_name": "Python 3 (ipykernel)",
   "language": "python",
   "name": "python3"
  },
  "language_info": {
   "codemirror_mode": {
    "name": "ipython",
    "version": 3
   },
   "file_extension": ".py",
   "mimetype": "text/x-python",
   "name": "python",
   "nbconvert_exporter": "python",
   "pygments_lexer": "ipython3",
   "version": "3.9.12"
  }
 },
 "nbformat": 4,
 "nbformat_minor": 5
}
