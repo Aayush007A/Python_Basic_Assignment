{
 "cells": [
  {
   "cell_type": "code",
   "execution_count": null,
   "id": "e76fa580",
   "metadata": {},
   "outputs": [],
   "source": [
    "********************************************************************************************************************************"
   ]
  },
  {
   "cell_type": "markdown",
   "id": "48165e65",
   "metadata": {},
   "source": [
    "#                                                      ASSIGNMENT-1"
   ]
  },
  {
   "cell_type": "code",
   "execution_count": null,
   "id": "3182851b",
   "metadata": {},
   "outputs": [],
   "source": [
    "********************************************************************************************************************************"
   ]
  },
  {
   "cell_type": "markdown",
   "id": "043aa9d9",
   "metadata": {},
   "source": [
    "# Question-1\n",
    "\n",
    "1. In the below elements which of them are values or an expression? eg:- values can be integer or string and expressions will be mathematical operators.\n",
    "           i) *\n",
    "           ii)'hello'\n",
    "           iii)-87.8;\n",
    "           iv) -\n",
    "           v)/\n",
    "           vi) +\n",
    "           vii) 6"
   ]
  },
  {
   "cell_type": "markdown",
   "id": "e01ea537",
   "metadata": {},
   "source": [
    "# Answer \n",
    "\n",
    "i), ii), v), vi) and vii) are  expression  and iii) and vii) are  values"
   ]
  },
  {
   "cell_type": "code",
   "execution_count": null,
   "id": "0d9f4df9",
   "metadata": {},
   "outputs": [],
   "source": [
    "********************************************************************************************************************************"
   ]
  },
  {
   "cell_type": "markdown",
   "id": "3b6b5722",
   "metadata": {},
   "source": [
    "# Question-2\n",
    "\n",
    "2. What is the difference between string and variable?"
   ]
  },
  {
   "cell_type": "markdown",
   "id": "a0ad8cb5",
   "metadata": {},
   "source": [
    "# Answer\n",
    "\n",
    "Variables are symbols that you can use to store data in a program. You can think of them as an empty box that you fill with some data or value. Strings are data, so we can use them to fill up a variable. Declaring strings as variables can make it easier for us to work with strings throughout our Python programs"
   ]
  },
  {
   "cell_type": "code",
   "execution_count": null,
   "id": "0cb365e4",
   "metadata": {},
   "outputs": [],
   "source": [
    "********************************************************************************************************************************"
   ]
  },
  {
   "cell_type": "markdown",
   "id": "7cf35e02",
   "metadata": {},
   "source": [
    "# Question-3\n",
    "\n",
    "3. Describe three different data types."
   ]
  },
  {
   "cell_type": "markdown",
   "id": "368537e3",
   "metadata": {},
   "source": [
    "# Answer\n",
    "\n",
    "Data types are the classification or categorization of data items. It represents the kind of value that tells what operations can be performed on a particular data. Since everything is an object in Python programming, data types are actually classes and variables are instance (object) of these classes.\n",
    "\n",
    "1. Integers – This value is represented by int class. It contains positive or negative whole numbers (without fraction or decimal). In Python there is no limit to how long an integer value can be.\n",
    "2. Float – This value is represented by float class. It is a real number with floating point representation. It is specified by a decimal point. Optionally, the character e or E followed by a positive or negative integer may be appended to specify scientific notation.\n",
    "3. Complex Numbers – Complex number is represented by complex class. It is specified as (real part) + (imaginary part)j. For example – 2+3j"
   ]
  },
  {
   "cell_type": "code",
   "execution_count": null,
   "id": "26d67410",
   "metadata": {},
   "outputs": [],
   "source": [
    "********************************************************************************************************************************"
   ]
  },
  {
   "cell_type": "markdown",
   "id": "eba398ad",
   "metadata": {},
   "source": [
    "# Question-4\n",
    "\n",
    "4. What is an expression made up of? What do all expressions do?"
   ]
  },
  {
   "cell_type": "markdown",
   "id": "321d1d29",
   "metadata": {},
   "source": [
    "# Answer\n",
    "\n",
    "An expression is a combination of operators and operands that is interpreted to produce some other value. In any programming language, an expression is evaluated as per the precedence of its operators. So that if there is more than one operator in an expression, their precedence decides which operation will be performed first. We have many different types of expressions in Python"
   ]
  },
  {
   "cell_type": "code",
   "execution_count": null,
   "id": "1aee39ed",
   "metadata": {},
   "outputs": [],
   "source": [
    "********************************************************************************************************************************"
   ]
  },
  {
   "cell_type": "markdown",
   "id": "0460173c",
   "metadata": {},
   "source": [
    "# Question-5\n",
    "\n",
    "5. This assignment statements, like spam = 10. What is the difference between an expression and a statement?"
   ]
  },
  {
   "cell_type": "markdown",
   "id": "f6bced43",
   "metadata": {},
   "source": [
    "# Answer\n",
    "\n",
    "Expressions are unique in meaning, while statements are two-sided in execution. For example, 1 has a certain value while go( ) may be executed or not. Statements are the whole structure, while expressions are the building blocks. For example, a line or a block of code is a statement."
   ]
  },
  {
   "cell_type": "code",
   "execution_count": null,
   "id": "b96cc1df",
   "metadata": {},
   "outputs": [],
   "source": [
    "********************************************************************************************************************************"
   ]
  },
  {
   "cell_type": "markdown",
   "id": "f29d1a94",
   "metadata": {},
   "source": [
    "# Question-6\n",
    "\n",
    "6. After running the following code, what does the variable bacon contain?\n",
    "\n",
    "    bacon = 22    \n",
    "    bacon + 1"
   ]
  },
  {
   "cell_type": "markdown",
   "id": "ee601ca5",
   "metadata": {},
   "source": [
    "# Answer\n",
    "\n",
    "bacon contains 23 value"
   ]
  },
  {
   "cell_type": "code",
   "execution_count": 2,
   "id": "67c77196",
   "metadata": {},
   "outputs": [
    {
     "data": {
      "text/plain": [
       "23"
      ]
     },
     "execution_count": 2,
     "metadata": {},
     "output_type": "execute_result"
    }
   ],
   "source": [
    "bacon = 22\n",
    "bacon + 1"
   ]
  },
  {
   "cell_type": "code",
   "execution_count": null,
   "id": "5382a72b",
   "metadata": {},
   "outputs": [],
   "source": [
    "********************************************************************************************************************************"
   ]
  },
  {
   "cell_type": "markdown",
   "id": "969d5e76",
   "metadata": {},
   "source": [
    "# Question-7\n",
    "\n",
    "7. What should the values of the following two terms be?\n",
    "\n",
    "    'spam' + 'spamspam and \n",
    "    'spam' * 3"
   ]
  },
  {
   "cell_type": "code",
   "execution_count": 3,
   "id": "e6e7239f",
   "metadata": {},
   "outputs": [
    {
     "data": {
      "text/plain": [
       "'spamspamspam'"
      ]
     },
     "execution_count": 3,
     "metadata": {},
     "output_type": "execute_result"
    }
   ],
   "source": [
    "'spam' + 'spamspam'"
   ]
  },
  {
   "cell_type": "code",
   "execution_count": 4,
   "id": "799fcd50",
   "metadata": {},
   "outputs": [
    {
     "data": {
      "text/plain": [
       "'spamspamspam'"
      ]
     },
     "execution_count": 4,
     "metadata": {},
     "output_type": "execute_result"
    }
   ],
   "source": [
    "'spam'*3"
   ]
  },
  {
   "cell_type": "code",
   "execution_count": null,
   "id": "e0bd7297",
   "metadata": {},
   "outputs": [],
   "source": [
    "********************************************************************************************************************************"
   ]
  },
  {
   "cell_type": "markdown",
   "id": "b2bab082",
   "metadata": {},
   "source": [
    "# Question-8\n",
    "\n",
    "8. Why is eggs a valid variable name while 100 is invalid?"
   ]
  },
  {
   "cell_type": "markdown",
   "id": "2bec13e5",
   "metadata": {},
   "source": [
    "# Answer\n",
    "\n",
    "Why is eggs a valid variable name while 100 is invalid? Variable names cannot begin with a number.In this case eggs is a valid because as per rules for defining a variables , variables can starts with special character, _ or alphabets but 100 is invalid because variable can not start with number"
   ]
  },
  {
   "cell_type": "code",
   "execution_count": null,
   "id": "a120869d",
   "metadata": {},
   "outputs": [],
   "source": [
    "********************************************************************************************************************************"
   ]
  },
  {
   "cell_type": "markdown",
   "id": "4d9022a8",
   "metadata": {},
   "source": [
    "# Question-9\n",
    "\n",
    "9. What three functions can be used to get the integer, floating-point number, or string version of a value?"
   ]
  },
  {
   "cell_type": "markdown",
   "id": "ec14ac10",
   "metadata": {},
   "source": [
    "# Answer\n",
    "\n",
    "The int() , float() , and str( ) functions will evaluate to the integer, floating-point number, and string versions of the value passed to them."
   ]
  },
  {
   "cell_type": "code",
   "execution_count": null,
   "id": "698f5351",
   "metadata": {},
   "outputs": [],
   "source": [
    "********************************************************************************************************************************"
   ]
  },
  {
   "cell_type": "markdown",
   "id": "ad93bc98",
   "metadata": {},
   "source": [
    "# Question-10\n",
    "\n",
    "10. Why does this expression cause an error? How can you fix it?\n",
    "\n",
    "'I have eaten' + 99 +' burritos.'"
   ]
  },
  {
   "cell_type": "code",
   "execution_count": 6,
   "id": "218e3b9d",
   "metadata": {},
   "outputs": [
    {
     "ename": "TypeError",
     "evalue": "can only concatenate str (not \"int\") to str",
     "output_type": "error",
     "traceback": [
      "\u001b[1;31m---------------------------------------------------------------------------\u001b[0m",
      "\u001b[1;31mTypeError\u001b[0m                                 Traceback (most recent call last)",
      "Input \u001b[1;32mIn [6]\u001b[0m, in \u001b[0;36m<cell line: 1>\u001b[1;34m()\u001b[0m\n\u001b[1;32m----> 1\u001b[0m \u001b[38;5;124;43m'\u001b[39;49m\u001b[38;5;124;43mI have eaten\u001b[39;49m\u001b[38;5;124;43m'\u001b[39;49m\u001b[43m \u001b[49m\u001b[38;5;241;43m+\u001b[39;49m\u001b[43m \u001b[49m\u001b[38;5;241;43m99\u001b[39;49m \u001b[38;5;241m+\u001b[39m\u001b[38;5;124m'\u001b[39m\u001b[38;5;124m burritos.\u001b[39m\u001b[38;5;124m'\u001b[39m\n",
      "\u001b[1;31mTypeError\u001b[0m: can only concatenate str (not \"int\") to str"
     ]
    }
   ],
   "source": [
    "'I have eaten' + 99 +' burritos.'"
   ]
  },
  {
   "cell_type": "code",
   "execution_count": null,
   "id": "1f3d7c40",
   "metadata": {},
   "outputs": [],
   "source": [
    "This gives TypeError : can only concatenate str (not \"int\") to str . It can be fixed if we place this 99 in the string format"
   ]
  },
  {
   "cell_type": "code",
   "execution_count": 8,
   "id": "2f2d3b50",
   "metadata": {},
   "outputs": [
    {
     "data": {
      "text/plain": [
       "'I have eaten 99 burritos.'"
      ]
     },
     "execution_count": 8,
     "metadata": {},
     "output_type": "execute_result"
    }
   ],
   "source": [
    "'I have eaten' + '99' +' burritos.'"
   ]
  },
  {
   "cell_type": "code",
   "execution_count": null,
   "id": "f8538a00",
   "metadata": {},
   "outputs": [],
   "source": [
    "********************************************************************************************************************************"
   ]
  }
 ],
 "metadata": {
  "kernelspec": {
   "display_name": "Python 3 (ipykernel)",
   "language": "python",
   "name": "python3"
  },
  "language_info": {
   "codemirror_mode": {
    "name": "ipython",
    "version": 3
   },
   "file_extension": ".py",
   "mimetype": "text/x-python",
   "name": "python",
   "nbconvert_exporter": "python",
   "pygments_lexer": "ipython3",
   "version": "3.9.12"
  }
 },
 "nbformat": 4,
 "nbformat_minor": 5
}
